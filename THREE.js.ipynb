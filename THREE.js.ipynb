{
 "cells": [
  {
   "cell_type": "code",
   "execution_count": 1,
   "metadata": {},
   "outputs": [
    {
     "data": {
      "text/html": [
       "<canvas width=\"500\" height=\"300\"></canvas>"
      ]
     },
     "execution_count": 1,
     "metadata": {},
     "output_type": "execute_result"
    },
    {
     "name": "stdout",
     "output_type": "stream",
     "text": [
      "THREE.WebGLRenderer 93\n"
     ]
    }
   ],
   "source": [
    "var THREE = require('three');\n",
    "\n",
    "var width = 500;\n",
    "var height = 300;\n",
    "\n",
    "$$html$$ = `<canvas width=\"${width}\" height=\"${height}\"></canvas>`;\n",
    "\n",
    "var scene = new THREE.Scene();\n",
    "var camera = new THREE.PerspectiveCamera(75, width/height, 0.1, 1000 );\n",
    "\n",
    "var renderer = new THREE.WebGLRenderer({canvas: $$html$$});\n",
    "renderer.setSize(width, height);\n",
    "\n",
    "var geometry = new THREE.BoxGeometry( 1, 1, 1 );\n",
    "var material = new THREE.MeshBasicMaterial( { color: 0x00ff00 } );\n",
    "var cube = new THREE.Mesh( geometry, material );\n",
    "scene.add( cube );\n",
    "\n",
    "camera.position.z = 5;\n",
    "\n",
    "var animate = function () {\n",
    "  requestAnimationFrame( animate );\n",
    "\n",
    "  cube.rotation.x += 0.1;\n",
    "  cube.rotation.y += 0.1;\n",
    "\n",
    "  renderer.render( scene, camera );\n",
    "};\n",
    "\n",
    "animate();"
   ]
  },
  {
   "cell_type": "code",
   "execution_count": null,
   "metadata": {},
   "outputs": [],
   "source": []
  }
 ],
 "metadata": {
  "kernelspec": {
   "display_name": "Javascript (Node.js)",
   "language": "javascript",
   "name": "javascript"
  },
  "language_info": {
   "file_extension": ".js",
   "mimetype": "application/javascript",
   "name": "javascript",
   "version": "10.2.1"
  }
 },
 "nbformat": 4,
 "nbformat_minor": 2
}
